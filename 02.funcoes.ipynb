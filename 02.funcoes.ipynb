{
 "cells": [
  {
   "cell_type": "markdown",
   "id": "d0d79c29-eed5-4751-8b6d-7fe6c7e6ec08",
   "metadata": {},
   "source": [
    "Índice\n",
    "\n",
    "1. Estrutura básica\n",
    "2. Declaração return\n",
    "3. Funções compactas\n",
    "4. Declarações de tipos\n",
    "   - Tipos abstratos e concretos\n",
    "5. Retorno de múltiplos valores\n",
    "6. Funções variádicas\n",
    "7. Argumentos nomeados\n",
    "8. Funções anônimas\n",
    "9. Funções mutáveis e não-mutáveis\n",
    "10. Funções de alto nível\n",
    "11. Duck-typing"
   ]
  },
  {
   "cell_type": "markdown",
   "id": "ffdf03ca-5d6e-4d04-a5a1-4f968598e764",
   "metadata": {},
   "source": [
    "# Funções\n",
    "\n",
    "Em Julia, uma função é um objeto que mapeia uma tupla de valores de argumentos para retornar um (ou mais) valores."
   ]
  },
  {
   "cell_type": "code",
   "execution_count": 1,
   "id": "aa379b42-de81-4805-9d20-38f1aaed95fd",
   "metadata": {},
   "outputs": [
    {
     "data": {
      "text/plain": [
       "3"
      ]
     },
     "execution_count": 1,
     "metadata": {},
     "output_type": "execute_result"
    }
   ],
   "source": [
    "# A estrutura básica de uma função\n",
    "function uma_funcao(arg1, arg2)\n",
    "    resultado = arg1 + arg2\n",
    "    return resultado\n",
    "end\n",
    "\n",
    "# invocação de uma função não difere de outras linguagens\n",
    "uma_funcao(1, 2)"
   ]
  },
  {
   "cell_type": "markdown",
   "id": "737130cd-dfe5-4c3f-bcdc-b60992e25992",
   "metadata": {},
   "source": [
    "## Return\n",
    "\n",
    "Em Julia, o último valor avaliado dentro da função será, por padrão, retornado. Contudo, assim como em muitas outras linguagens, a declaração ```return``` pode ser usada para fazer com que a função retorne um valor de forma imediata. Em outras palavras, o uso é opcional."
   ]
  },
  {
   "cell_type": "markdown",
   "id": "f89c779b-176f-4eeb-9f7d-b90761fa50c0",
   "metadata": {},
   "source": [
    "## Funções compactas\n",
    "Funções simples podem ser reescritas de forma compacta:"
   ]
  },
  {
   "cell_type": "code",
   "execution_count": 2,
   "id": "a058d224-d29c-42b9-a4b4-65d45f072d88",
   "metadata": {},
   "outputs": [
    {
     "data": {
      "text/plain": [
       "3"
      ]
     },
     "execution_count": 2,
     "metadata": {},
     "output_type": "execute_result"
    }
   ],
   "source": [
    "# nesta construção o return também é opcional\n",
    "uma_funcao_compacta(arg1, arg2) = return arg1 + arg2\n",
    "\n",
    "uma_funcao_compacta(1, 2)"
   ]
  },
  {
   "cell_type": "markdown",
   "id": "d5a28581-216b-4de8-9f81-aac5830bb89e",
   "metadata": {},
   "source": [
    "## Tipos e declarações de tipos\n",
    "\n",
    "Julia é dinâmica. Dessa forma, a linguagem é capaz de inferir os tipos usados ao decorrer do código sem que eles tenham sido explicitamente declarados. Apesar disso, é possível declarar tipos para argumentos e retornos de funções.\n",
    "\n",
    "Há dois motivos principais para isso:\n",
    "- Emitir um ```assert``` e garantir que um programa funcione como esperado (um erro será levantado caso a anotação não seja condizente).\n",
    "- Oferecer informação extra sobre tipos ao compilador, pois, em alguns casos, isso pode otimizar o desempenho.\n",
    "\n",
    "Para maiores detalhes, veja a [documentação oficial](https://docs.julialang.org/en/v1/manual/types/#Type-Declarations).\n",
    "\n",
    "\n",
    "**Sobre anotações de tipo em Jupyter**\n",
    "\n",
    "Aparentemente, após a primeira compilação com anotações de tipo, é necessário limpar o Kernel caso as anotações sejam alteradas. Do contrário, a versão pré-compilada será usada e o comportamento pode não ser o esperado."
   ]
  },
  {
   "cell_type": "code",
   "execution_count": 3,
   "id": "3fbc81c8-61d9-410a-9f30-25dbfc14589a",
   "metadata": {},
   "outputs": [
    {
     "ename": "LoadError",
     "evalue": "TypeError: in typeassert, expected AbstractFloat, got a value of type Int64",
     "output_type": "error",
     "traceback": [
      "TypeError: in typeassert, expected AbstractFloat, got a value of type Int64",
      "",
      "Stacktrace:",
      " [1] top-level scope",
      "   @ In[3]:2",
      " [2] eval",
      "   @ ./boot.jl:360 [inlined]",
      " [3] include_string(mapexpr::typeof(REPL.softscope), mod::Module, code::String, filename::String)",
      "   @ Base ./loading.jl:1094"
     ]
    }
   ],
   "source": [
    "# este exemplo levantará um TypeError\n",
    "(1 + 2)::AbstractFloat"
   ]
  },
  {
   "cell_type": "code",
   "execution_count": 10,
   "id": "3a82d0f4-deed-4d80-b1ef-686c05f74cb1",
   "metadata": {},
   "outputs": [
    {
     "data": {
      "text/plain": [
       "3"
      ]
     },
     "execution_count": 10,
     "metadata": {},
     "output_type": "execute_result"
    }
   ],
   "source": [
    "# este exemplo não levantará um erro\n",
    "(1 + 2)::Int64"
   ]
  },
  {
   "cell_type": "markdown",
   "id": "e10f43ac-55b1-4ba1-9f32-e9b96bc6a794",
   "metadata": {},
   "source": [
    "A anotação de tipos em funções é feita após a delimitação dos argumentos."
   ]
  },
  {
   "cell_type": "code",
   "execution_count": 5,
   "id": "ca611081-ca15-42b2-8b31-43a73892da8f",
   "metadata": {},
   "outputs": [
    {
     "data": {
      "text/plain": [
       "Int8"
      ]
     },
     "execution_count": 5,
     "metadata": {},
     "output_type": "execute_result"
    }
   ],
   "source": [
    "function g(x, y)::Int8\n",
    "    return x * y\n",
    "end\n",
    "\n",
    "typeof(g(1, 2))"
   ]
  },
  {
   "cell_type": "markdown",
   "id": "ea4d4f3f-f933-4d96-bf7a-1215e5ace24a",
   "metadata": {},
   "source": [
    "Naturalmente, não é apenas possível anotar o tipo retorno de uma função, mas também os próprios argumentos."
   ]
  },
  {
   "cell_type": "code",
   "execution_count": 6,
   "id": "491bec53-efc8-43cc-82e9-c503df419f95",
   "metadata": {},
   "outputs": [
    {
     "data": {
      "text/plain": [
       "6.25"
      ]
     },
     "execution_count": 6,
     "metadata": {},
     "output_type": "execute_result"
    }
   ],
   "source": [
    "# trocar a declaração de Float64 como retorno da função levantaria um InexactError\n",
    "# trocar a declaração de um dos argumentos levaria a um MethodError\n",
    "function j(x::Float64, y::Int64)::Float64\n",
    "    return x ^ y\n",
    "end\n",
    "\n",
    "j(2.5, 2)"
   ]
  },
  {
   "cell_type": "markdown",
   "id": "5636a21d-d3ea-45a3-bbb8-a9a407e5efc6",
   "metadata": {},
   "source": [
    "Uma peculiaridade de Julia é possibilitar a definição de comportamentos distintos para uma função de mesmo nome a depender do tipo dos argumentos."
   ]
  },
  {
   "cell_type": "code",
   "execution_count": 7,
   "id": "708cea61-f7ac-4c33-90fd-2f73ca9b4245",
   "metadata": {},
   "outputs": [
    {
     "data": {
      "text/html": [
       "# 2 methods for generic function <b>arredondar</b>:<ul><li> arredondar(x::<b>Float64</b>) in Main at In[7]:1</li> <li> arredondar(x::<b>Int64</b>) in Main at In[7]:5</li> </ul>"
      ],
      "text/plain": [
       "# 2 methods for generic function \"arredondar\":\n",
       "[1] arredondar(x::Float64) in Main at In[7]:1\n",
       "[2] arredondar(x::Int64) in Main at In[7]:5"
      ]
     },
     "execution_count": 7,
     "metadata": {},
     "output_type": "execute_result"
    }
   ],
   "source": [
    "function arredondar(x::Float64)\n",
    "    return round(x)\n",
    "end\n",
    "\n",
    "function arredondar(x::Int64)\n",
    "    return x\n",
    "end\n",
    "\n",
    "methods(arredondar)"
   ]
  },
  {
   "cell_type": "markdown",
   "id": "de72eb51-75cb-4d7e-acca-56d13b5083a9",
   "metadata": {},
   "source": [
    "É possível utilizar tipos abstratos para anotação.\n",
    "\n",
    "Se a ideia ao declarar uma função for definir uma função que consiga lidar com diferentes tipos de um mesmo grupo de tipos, podemos utilizar um tipo abstrato como ```AbstractFloat``` ou um ```Integer```. Uma lista completa dos tipos de inteiros e floats pode ser encontrada na [documentação oficial](https://docs.julialang.org/en/v1/manual/integers-and-floating-point-numbers/#Integers-and-Floating-Point-Numbers). \n",
    "\n",
    "Maiores explicações sobre tipos abstratos poderão ser encontradas mais a frente."
   ]
  },
  {
   "cell_type": "code",
   "execution_count": null,
   "id": "674f1a04-eab1-4d8c-b038-30c57e0cc076",
   "metadata": {},
   "outputs": [],
   "source": [
    "# esta função lidará com todos os tipos de floats\n",
    "function funcao1(x::AbstractFloat)\n",
    "    return round(x)\n",
    "end\n",
    "\n",
    "# esta função poderá receber todos os tipos de inteiros\n",
    "function funcao2(x::Integer)\n",
    "    return round(x)\n",
    "end"
   ]
  },
  {
   "cell_type": "markdown",
   "id": "9fe7437e-ac42-48bd-900e-60dfbfb32c4c",
   "metadata": {},
   "source": [
    "### Mais sobre tipos: abstratos e concretos \n",
    "\n",
    "Tipos abstratos são nós na hierarquia de tipos da linguagem. A partir de tipos abstratos, tipos concretos podem ser definidos. Dessa forma, tipos concretos sempre são subtipos de tipos abstratos.\n",
    "\n",
    "A síntaxe geral para declarar tipos abstratos é:\n",
    "\n",
    "```julia\n",
    "abstract type «name» end\n",
    "abstract type «name» <: «supertype» end\n",
    "```\n",
    "\n",
    "A declaração ```abstract``` introduz um novo tipo abstrato, cujo nome é dado por «name». Esse nome pode ser opcionalmente seguido por ```<:``` e um nome de tipo abstrato já existente, indicando que o tipo recém declarado é subtipo de um tipo parental. Se nenhum «supertype» é dado, ele será ```Any```. Any é o topo da árvore de tipos em Julia, em oposição a ```Union{}``` que representa o fim da árvore. Para maiores detalhes, veja a [documentação oficial](https://docs.julialang.org/en/v1/manual/types/#man-abstract-types).\n",
    "\n",
    "Abaixo, temos a relação de tipos abstratos que definem a hierarquia numérica da linguagem.\n",
    "\n",
    "```julia\n",
    "abstract type Number end\n",
    "abstract type Real <: Number end\n",
    "abstract type AbstractFloat <: Real end\n",
    "abstract type Integer <: Real end\n",
    "abstract type Signed <: Integer end\n",
    "abstract type Unsigned <: Integer end\n",
    "```"
   ]
  },
  {
   "cell_type": "markdown",
   "id": "f5e6d24f-553f-45b0-b4a5-06ea4dbbb946",
   "metadata": {},
   "source": [
    "## Retorno de múltiplos valores"
   ]
  },
  {
   "cell_type": "code",
   "execution_count": null,
   "id": "fe2ba4c3-1ff5-40d1-be88-46e684306b64",
   "metadata": {},
   "outputs": [],
   "source": []
  },
  {
   "cell_type": "markdown",
   "id": "a7a94d65-509c-4af8-937f-8391e79de3b4",
   "metadata": {},
   "source": [
    "## Funções variádicas (Varargs)\n",
    "\n",
    "Uma função variádica é uma função de aridez indefinida. Ou seja: que aceita um número variável de argumentos. Em Julia, podemos definir N parâmetros acrescentando ```...``` (elipse) após o último argumento."
   ]
  },
  {
   "cell_type": "code",
   "execution_count": 45,
   "id": "7a8c4f44-5ca9-4102-aa32-d775c2802a9b",
   "metadata": {},
   "outputs": [],
   "source": [
    "function vararg(x...)\n",
    "    for arg in x\n",
    "        print(\"$(arg * 2) \")\n",
    "    end\n",
    "end;"
   ]
  },
  {
   "cell_type": "code",
   "execution_count": 46,
   "id": "b34afc6e-6db7-4570-9230-77d9942deea1",
   "metadata": {},
   "outputs": [
    {
     "name": "stdout",
     "output_type": "stream",
     "text": [
      "4 6 8 "
     ]
    }
   ],
   "source": [
    "vararg(2, 3, 4)  # 4 6 8"
   ]
  },
  {
   "cell_type": "markdown",
   "id": "2aa95c0f-ac4b-4a18-9431-aa2f34117121",
   "metadata": {},
   "source": [
    "## Argumentos nomeados\n",
    "\n",
    "Algumas funções podem aceitar argumentos nomeados ao invés de argumentos posicionais. Esses argumentos funcionam como argumentos regulares, exceto por serem definidos após os argumentos regulares da função e serem separados por ponto-e-vírgula (;). Outra diferença é que argumentos nomeados devem sempre possuir um valor padrão na declaração da função.\n",
    "\n",
    "Por exemplo, vamos definir uma função que calcula o valor de log (com base 2.718281828459045).\n",
    "\n",
    "Note que as anotações indicam tipo Real, dessa forma cobrindo todos os tipos derivados de Integer e AbstractFloat, pois os mesmos são subtipos de Real."
   ]
  },
  {
   "cell_type": "code",
   "execution_count": 32,
   "id": "0f67b736-96d4-45bd-a390-d9d92fe42544",
   "metadata": {},
   "outputs": [
    {
     "data": {
      "text/plain": [
       "true"
      ]
     },
     "execution_count": 32,
     "metadata": {},
     "output_type": "execute_result"
    }
   ],
   "source": [
    "AbstractFloat <: Real && Integer <: Real"
   ]
  },
  {
   "cell_type": "code",
   "execution_count": 33,
   "id": "9aca7b30-c4b7-4f14-96a8-2c51b010c4f8",
   "metadata": {},
   "outputs": [
    {
     "data": {
      "text/plain": [
       "logaritmo (generic function with 1 method)"
      ]
     },
     "execution_count": 33,
     "metadata": {},
     "output_type": "execute_result"
    }
   ],
   "source": [
    "function logaritmo(x::Real; base::Real=2.7182818284590)\n",
    "    return log(base, x)\n",
    "end"
   ]
  },
  {
   "cell_type": "code",
   "execution_count": 34,
   "id": "9615963e-3336-40d6-8a7e-9fe65fefc91f",
   "metadata": {},
   "outputs": [
    {
     "data": {
      "text/plain": [
       "2.3025850929940845"
      ]
     },
     "execution_count": 34,
     "metadata": {},
     "output_type": "execute_result"
    }
   ],
   "source": [
    "# função irá funcionar sem que o argumento base seja especificado\n",
    "logaritmo(10)"
   ]
  },
  {
   "cell_type": "code",
   "execution_count": 35,
   "id": "601a161a-6b83-47dd-914c-b3e74635dda2",
   "metadata": {},
   "outputs": [
    {
     "data": {
      "text/plain": [
       "3.3219280948873626"
      ]
     },
     "execution_count": 35,
     "metadata": {},
     "output_type": "execute_result"
    }
   ],
   "source": [
    "# também funcionará com um valor diferente para o parâmetro base\n",
    "logaritmo(10; base=2)"
   ]
  },
  {
   "cell_type": "markdown",
   "id": "30c1d646-78bf-49d7-a57c-2b1c5fcf10b7",
   "metadata": {},
   "source": [
    "## Funções anônimas\n",
    "\n",
    "Frequentemente funções são necessárias, mas não necessariamente precisam de um nome. Para esses casos, usamos funções anônimas.\n",
    "\n",
    "A síntaxe é construída da seguinte forma: utilizamos o operador ```->```. À esquerda de -> definimos o nome do parâmetro da função. À direita de -> definimos a operação que será aplicada sobre o parâmetro que definimos à esquerda. No exemplo abaixo, iremos aplicar exponenciação a um valor log para desfazer a transformação logaritmica."
   ]
  },
  {
   "cell_type": "code",
   "execution_count": 37,
   "id": "84ce9faf-c0d0-4b54-8e9f-e002f19fc414",
   "metadata": {},
   "outputs": [
    {
     "data": {
      "text/plain": [
       "2.0"
      ]
     },
     "execution_count": 37,
     "metadata": {},
     "output_type": "execute_result"
    }
   ],
   "source": [
    "map(x -> 2.7182818284590 ^ x, logaritmo(2))"
   ]
  },
  {
   "cell_type": "markdown",
   "id": "249cf515-813a-4a64-96ad-f6b28cfe9639",
   "metadata": {},
   "source": [
    "## Funções mutáveis e não-mutáveis\n",
    "\n",
    "Por convenção, funções seguidas de ```!``` alteram o conteúdo do objeto recebido, enquantos funções sem ! não. Por exemplo:"
   ]
  },
  {
   "cell_type": "code",
   "execution_count": 24,
   "id": "52d8081e-59e7-43bf-9935-821dc87a15a6",
   "metadata": {},
   "outputs": [],
   "source": [
    "v = [3, 5, 2];"
   ]
  },
  {
   "cell_type": "code",
   "execution_count": 25,
   "id": "8598c4c8-51d2-4f11-a1ef-dd05923d66b4",
   "metadata": {},
   "outputs": [
    {
     "data": {
      "text/plain": [
       "3-element Vector{Int64}:\n",
       " 2\n",
       " 3\n",
       " 5"
      ]
     },
     "execution_count": 25,
     "metadata": {},
     "output_type": "execute_result"
    }
   ],
   "source": [
    "sort(v)"
   ]
  },
  {
   "cell_type": "code",
   "execution_count": 27,
   "id": "51aae552-3cbd-4f91-a6dc-648b7969dac7",
   "metadata": {},
   "outputs": [
    {
     "data": {
      "text/plain": [
       "3-element Vector{Int64}:\n",
       " 3\n",
       " 5\n",
       " 2"
      ]
     },
     "execution_count": 27,
     "metadata": {},
     "output_type": "execute_result"
    }
   ],
   "source": [
    "# v não foi alterado\n",
    "v"
   ]
  },
  {
   "cell_type": "code",
   "execution_count": 29,
   "id": "102d1b40-de60-4f5b-afea-a75aef46e503",
   "metadata": {},
   "outputs": [],
   "source": [
    "sort!(v);"
   ]
  },
  {
   "cell_type": "code",
   "execution_count": 30,
   "id": "3b8668cc-c61a-4029-8453-b874dcec90ea",
   "metadata": {},
   "outputs": [
    {
     "data": {
      "text/plain": [
       "3-element Vector{Int64}:\n",
       " 2\n",
       " 3\n",
       " 5"
      ]
     },
     "execution_count": 30,
     "metadata": {},
     "output_type": "execute_result"
    }
   ],
   "source": [
    "# agora v foi alterado\n",
    "v"
   ]
  },
  {
   "cell_type": "markdown",
   "id": "b5a762c5-13ea-4e93-985c-de64d823fe45",
   "metadata": {},
   "source": [
    "## Funções de alto nível"
   ]
  },
  {
   "cell_type": "markdown",
   "id": "b4be2ada-ed2c-4da0-b417-d09eddd1414e",
   "metadata": {},
   "source": [
    "## Duck-typing\n",
    "\n",
    "Funções em Julia funcionarão sempre que as entradas fizerem sentido com as operações envolvidas na função."
   ]
  },
  {
   "cell_type": "code",
   "execution_count": 11,
   "id": "6ce94f0a-f9d7-4f92-9dfe-5d2c3782ac98",
   "metadata": {},
   "outputs": [
    {
     "data": {
      "text/plain": [
       "f (generic function with 1 method)"
      ]
     },
     "execution_count": 11,
     "metadata": {},
     "output_type": "execute_result"
    }
   ],
   "source": [
    "function f(x)\n",
    "    x^2\n",
    "end"
   ]
  },
  {
   "cell_type": "code",
   "execution_count": 12,
   "id": "502902b3-18e2-4607-b09c-efbe87b9abad",
   "metadata": {},
   "outputs": [
    {
     "data": {
      "text/plain": [
       "1764"
      ]
     },
     "execution_count": 12,
     "metadata": {},
     "output_type": "execute_result"
    }
   ],
   "source": [
    "# naturalmente, f funcionará em números\n",
    "f(42)"
   ]
  },
  {
   "cell_type": "code",
   "execution_count": 14,
   "id": "326f0372-9ac4-458f-88a1-3a6f86ffd056",
   "metadata": {},
   "outputs": [
    {
     "data": {
      "text/plain": [
       "3×3 Matrix{Float64}:\n",
       " 0.507536  0.967503  1.21788\n",
       " 0.243742  0.52587   0.488928\n",
       " 0.504484  1.16218   1.58205"
      ]
     },
     "execution_count": 14,
     "metadata": {},
     "output_type": "execute_result"
    }
   ],
   "source": [
    "# f funcionará em matrizes\n",
    "A = rand(3, 3)\n",
    "f(A)"
   ]
  },
  {
   "cell_type": "code",
   "execution_count": 19,
   "id": "ecec0c1e-6938-4bac-9c92-52b733f1008d",
   "metadata": {},
   "outputs": [
    {
     "data": {
      "text/plain": [
       "\"oláolá\""
      ]
     },
     "execution_count": 19,
     "metadata": {},
     "output_type": "execute_result"
    }
   ],
   "source": [
    "# f funcionará em valores string, pois o operador * causa concatenação.\n",
    "f(\"olá\")"
   ]
  }
 ],
 "metadata": {
  "kernelspec": {
   "display_name": "Julia 1.6.0",
   "language": "julia",
   "name": "julia-1.6"
  },
  "language_info": {
   "file_extension": ".jl",
   "mimetype": "application/julia",
   "name": "julia",
   "version": "1.6.0"
  }
 },
 "nbformat": 4,
 "nbformat_minor": 5
}
