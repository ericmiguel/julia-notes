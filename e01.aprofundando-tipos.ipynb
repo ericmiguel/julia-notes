{
 "cells": [
  {
   "cell_type": "markdown",
   "id": "2fbb3c16-b3fc-414d-b24e-165fc0c71a08",
   "metadata": {},
   "source": [
    "# Extra: aprofundamento sobre tipos em Julia\n",
    "\n",
    "Os exemplos abaixo foram retirados da [documentação oficial](https://docs.julialang.org/en/v1/devdocs/types/)."
   ]
  },
  {
   "cell_type": "code",
   "execution_count": 1,
   "id": "e882f8e2-bb93-452b-827f-8856d16029f6",
   "metadata": {},
   "outputs": [
    {
     "data": {
      "text/plain": [
       "Union{}"
      ]
     },
     "execution_count": 1,
     "metadata": {},
     "output_type": "execute_result"
    }
   ],
   "source": [
    "typeintersect(Int, Float64)"
   ]
  },
  {
   "cell_type": "code",
   "execution_count": 2,
   "id": "a1d78c05-0036-4c47-b24f-3d7b083efdee",
   "metadata": {},
   "outputs": [
    {
     "data": {
      "text/plain": [
       "Union{Float64, Int64}"
      ]
     },
     "execution_count": 2,
     "metadata": {},
     "output_type": "execute_result"
    }
   ],
   "source": [
    "Union{Int, Float64}"
   ]
  },
  {
   "cell_type": "code",
   "execution_count": 3,
   "id": "4c56d4ee-e682-450d-8690-6fb69ef4de54",
   "metadata": {},
   "outputs": [
    {
     "data": {
      "text/plain": [
       "Union{Float64, Int64}"
      ]
     },
     "execution_count": 3,
     "metadata": {},
     "output_type": "execute_result"
    }
   ],
   "source": [
    "Union{Float64, Int64}"
   ]
  },
  {
   "cell_type": "code",
   "execution_count": 4,
   "id": "d45f24c4-a9fa-4d07-8de2-0f7561c91759",
   "metadata": {},
   "outputs": [
    {
     "data": {
      "text/plain": [
       "Real"
      ]
     },
     "execution_count": 4,
     "metadata": {},
     "output_type": "execute_result"
    }
   ],
   "source": [
    "typejoin(Int, Float64)"
   ]
  },
  {
   "cell_type": "code",
   "execution_count": 5,
   "id": "07d3b1ba-9dc8-47eb-851b-b3cb6ff30a93",
   "metadata": {},
   "outputs": [
    {
     "data": {
      "text/plain": [
       "Int8"
      ]
     },
     "execution_count": 5,
     "metadata": {},
     "output_type": "execute_result"
    }
   ],
   "source": [
    "typeintersect(Signed, Union{UInt8, Int8})"
   ]
  },
  {
   "cell_type": "code",
   "execution_count": 6,
   "id": "defaf645-ec7f-4405-b248-b2f104ad5e4a",
   "metadata": {},
   "outputs": [
    {
     "data": {
      "text/plain": [
       "Union{UInt8, Signed}"
      ]
     },
     "execution_count": 6,
     "metadata": {},
     "output_type": "execute_result"
    }
   ],
   "source": [
    "Union{Signed, Union{UInt8, Int8}}"
   ]
  },
  {
   "cell_type": "code",
   "execution_count": 7,
   "id": "6929a528-d544-41d2-8f70-7577e83635eb",
   "metadata": {},
   "outputs": [
    {
     "data": {
      "text/plain": [
       "Integer"
      ]
     },
     "execution_count": 7,
     "metadata": {},
     "output_type": "execute_result"
    }
   ],
   "source": [
    "typejoin(Signed, Union{UInt8, Int8})"
   ]
  },
  {
   "cell_type": "code",
   "execution_count": 8,
   "id": "7fba3daf-10de-4643-9d7a-bb4d9a48b661",
   "metadata": {},
   "outputs": [
    {
     "data": {
      "text/plain": [
       "Tuple{Int64, Float64}"
      ]
     },
     "execution_count": 8,
     "metadata": {},
     "output_type": "execute_result"
    }
   ],
   "source": [
    "typeintersect(Tuple{Integer, Float64}, Tuple{Int, Real})"
   ]
  },
  {
   "cell_type": "code",
   "execution_count": 9,
   "id": "85980f3c-1457-497c-9178-ff60c7765329",
   "metadata": {},
   "outputs": [
    {
     "data": {
      "text/plain": [
       "Union{Tuple{Int64, Real}, Tuple{Integer, Float64}}"
      ]
     },
     "execution_count": 9,
     "metadata": {},
     "output_type": "execute_result"
    }
   ],
   "source": [
    "Union{Tuple{Integer, Float64}, Tuple{Int, Real}}"
   ]
  },
  {
   "cell_type": "code",
   "execution_count": 10,
   "id": "cfc15196-4621-46e8-9881-f4677dbfad61",
   "metadata": {},
   "outputs": [
    {
     "data": {
      "text/plain": [
       "Tuple{Integer, Real}"
      ]
     },
     "execution_count": 10,
     "metadata": {},
     "output_type": "execute_result"
    }
   ],
   "source": [
    "typejoin(Tuple{Integer, Float64}, Tuple{Int, Real})"
   ]
  },
  {
   "cell_type": "markdown",
   "id": "1163758c-3002-40d9-bc7f-04fb164cee28",
   "metadata": {},
   "source": [
    "## Escrevendo códigos tipo-estáveis\n",
    "\n",
    "https://www.juliabloggers.com/writing-type-stable-julia-code/"
   ]
  }
 ],
 "metadata": {
  "kernelspec": {
   "display_name": "Julia 1.6.0",
   "language": "julia",
   "name": "julia-1.6"
  },
  "language_info": {
   "file_extension": ".jl",
   "mimetype": "application/julia",
   "name": "julia",
   "version": "1.6.0"
  }
 },
 "nbformat": 4,
 "nbformat_minor": 5
}
