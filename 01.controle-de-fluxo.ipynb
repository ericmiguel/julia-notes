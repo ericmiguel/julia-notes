{
 "cells": [
  {
   "cell_type": "markdown",
   "id": "27ae497b-4e19-41fb-82af-f6e27f042826",
   "metadata": {},
   "source": [
    "## Controle de fluxo"
   ]
  },
  {
   "cell_type": "markdown",
   "id": "65f2814e-2455-444b-a502-c59084eb507f",
   "metadata": {},
   "source": [
    "### Expressões compostas\n",
    "Expressão para avaliar múltiplas subexpressões ordenadamente, tendo como retorno o valor\n",
    "da última subexpressão."
   ]
  },
  {
   "cell_type": "code",
   "execution_count": 1,
   "id": "1ca73b6a-47ac-4efa-b271-e5325feac093",
   "metadata": {},
   "outputs": [],
   "source": [
    "# todas as sintaxes abaixo são equivalentes.\n",
    "\n",
    "z = begin\n",
    "    x = 1\n",
    "    y = 2\n",
    "    x + y\n",
    "end\n",
    "\n",
    "z = (x = 1; y = 2; x + y)\n",
    "\n",
    "z = begin x = 1; y = 2; x + y end\n",
    "\n",
    "z = (x = 1; \n",
    "     y = 2;\n",
    "     x + y);"
   ]
  },
  {
   "cell_type": "markdown",
   "id": "8d580977-096b-4fe3-81f7-5e4ecfe33fe2",
   "metadata": {},
   "source": [
    "---"
   ]
  },
  {
   "cell_type": "markdown",
   "id": "c29f65da-7995-451f-b03d-307ee9491305",
   "metadata": {},
   "source": [
    "### Avaliação condicional\n",
    "\n",
    "Condicionais permitem que códigos sejam avaliados (ou não), dependendo do valor de uma\n",
    "expressão boleana. Abaixo, se a expressão ```x < y``` for verdadeira, o bloco\n",
    "correspondente será executado. As expressão são avaliadas até que um primeiro true\n",
    "seja obtido. Caso contrário, a declaração ```else``` será avaliada.\n",
    "\n",
    "- As declarações ```elseif``` e ```else``` são opcionais.\n",
    "- Uma indefinida quantidade ```elseif``` pode ser usada.\n",
    "- Blocos ```if``` são ```leaky```. Isto é, não possuem escopo local. Uma nova variável definida dentro de bloco pode ser usada após o bloco, mesmo que não tenha sido definida anteriormente. Veja no exemplo."
   ]
  },
  {
   "cell_type": "code",
   "execution_count": 2,
   "id": "6f0dc826-4364-4eff-97d4-d86f311473af",
   "metadata": {},
   "outputs": [],
   "source": [
    "function teste(x,y)\n",
    "    if x < y\n",
    "        rel = \"menor que\"\n",
    "    elseif x == y\n",
    "        rel = \"igual a\"\n",
    "    else\n",
    "        rel = \"maior que\"\n",
    "    end\n",
    "    println(\"x é \", rel, \" y.\")\n",
    "end;"
   ]
  },
  {
   "cell_type": "code",
   "execution_count": 3,
   "id": "d89294fc-1309-4de2-8581-a65ee41c5591",
   "metadata": {},
   "outputs": [
    {
     "name": "stdout",
     "output_type": "stream",
     "text": [
      "x é menor que y.\n"
     ]
    }
   ],
   "source": [
    "teste(1, 2)"
   ]
  },
  {
   "cell_type": "markdown",
   "id": "0be6efaa-0001-4d8d-be3f-ac1bec1b91bb",
   "metadata": {},
   "source": [
    "Note que os blocos ```if``` retornam valores. No caso, os valores retornados são, simplesmente, o valor da última declaração executada em um bloco."
   ]
  },
  {
   "cell_type": "code",
   "execution_count": 4,
   "id": "9bd2f2a3-38a7-4443-97ec-b9ddeb001d6b",
   "metadata": {},
   "outputs": [
    {
     "data": {
      "text/plain": [
       "\"positivo!\""
      ]
     },
     "execution_count": 4,
     "metadata": {},
     "output_type": "execute_result"
    }
   ],
   "source": [
    "x = 3\n",
    "if x > 0\n",
    "    \"positivo!\"\n",
    "else\n",
    "    \"negativo...\"\n",
    "end"
   ]
  },
  {
   "cell_type": "markdown",
   "id": "9085300f-d32e-4bde-8e20-a7745162abdf",
   "metadata": {},
   "source": [
    "Julia é mais estrito com os tipos. Diferentemnte de muitas linguagens dinâmica, valores 1 e 0 não equivalem a boleanos para avaliações condicionais. Um ```TypeError``` é esperado."
   ]
  },
  {
   "cell_type": "code",
   "execution_count": 7,
   "id": "55a99e36-808f-4c19-b4a6-64fa99abc986",
   "metadata": {},
   "outputs": [
    {
     "ename": "LoadError",
     "evalue": "TypeError: non-boolean (Int64) used in boolean context",
     "output_type": "error",
     "traceback": [
      "TypeError: non-boolean (Int64) used in boolean context",
      "",
      "Stacktrace:",
      " [1] top-level scope",
      "   @ In[7]:1",
      " [2] eval",
      "   @ ./boot.jl:360 [inlined]",
      " [3] include_string(mapexpr::typeof(REPL.softscope), mod::Module, code::String, filename::String)",
      "   @ Base ./loading.jl:1094"
     ]
    }
   ],
   "source": [
    "if 1\n",
    "    println(\"true\")\n",
    "end"
   ]
  }
 ],
 "metadata": {
  "kernelspec": {
   "display_name": "Julia 1.6.0",
   "language": "julia",
   "name": "julia-1.6"
  },
  "language_info": {
   "file_extension": ".jl",
   "mimetype": "application/julia",
   "name": "julia",
   "version": "1.6.0"
  }
 },
 "nbformat": 4,
 "nbformat_minor": 5
}
