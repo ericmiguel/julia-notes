{
 "cells": [
  {
   "cell_type": "markdown",
   "id": "c26cb254-4722-4315-b64b-0dac58b87d78",
   "metadata": {},
   "source": [
    "Índice\n",
    "\n",
    "1. Repetição\n",
    "    - Laços while\n",
    "    - Laços for\n",
    "2. Expressões compostas\n",
    "3. Avaliação condicional\n",
    "    - if, elseif e else\n",
    "    - operador ternário\n",
    "    - operadores lógicos e circuito curto"
   ]
  },
  {
   "cell_type": "markdown",
   "id": "27ae497b-4e19-41fb-82af-f6e27f042826",
   "metadata": {},
   "source": [
    "## Controle de fluxo"
   ]
  },
  {
   "cell_type": "markdown",
   "id": "2a0cbde3-46f1-423f-89fa-a1f3337b74ce",
   "metadata": {},
   "source": [
    "### Repetição"
   ]
  },
  {
   "cell_type": "markdown",
   "id": "52a08e27-d1a5-4d95-b89d-dc70ed0680f6",
   "metadata": {},
   "source": [
    "#### Laços while"
   ]
  },
  {
   "cell_type": "code",
   "execution_count": 3,
   "id": "297d7927-ec36-427a-bacb-a19c1b93941e",
   "metadata": {},
   "outputs": [
    {
     "name": "stdout",
     "output_type": "stream",
     "text": [
      "1\n",
      "2\n",
      "3\n",
      "4\n",
      "5\n",
      "6\n",
      "7\n",
      "8\n",
      "9\n",
      "10\n"
     ]
    }
   ],
   "source": [
    "n = 0\n",
    "while n < 10\n",
    "    n += 1\n",
    "    println(n)\n",
    "end"
   ]
  },
  {
   "cell_type": "markdown",
   "id": "602ef5c0-9ead-481e-9314-52e215ef4dda",
   "metadata": {},
   "source": [
    "#### Laços for"
   ]
  },
  {
   "cell_type": "code",
   "execution_count": 1,
   "id": "5343affc-1e0d-4169-958b-9c12cd38ae2c",
   "metadata": {},
   "outputs": [
    {
     "name": "stdout",
     "output_type": "stream",
     "text": [
      "1\n",
      "2\n",
      "3\n",
      "4\n",
      "5\n",
      "6\n",
      "7\n",
      "8\n",
      "9\n",
      "10\n"
     ]
    }
   ],
   "source": [
    "for n in 1:10\n",
    "    println(n)\n",
    "end"
   ]
  },
  {
   "cell_type": "code",
   "execution_count": 23,
   "id": "61226153-ece3-4e06-88d2-dd9a290f3ecf",
   "metadata": {},
   "outputs": [
    {
     "name": "stdout",
     "output_type": "stream",
     "text": [
      "Olá, Luiza! Tudo bem?\n",
      "Olá, Vitória! Tudo bem?\n",
      "Olá, Jonathan! Tudo bem?\n",
      "Olá, Lis! Tudo bem?\n"
     ]
    }
   ],
   "source": [
    "# é possível iterar sobre os elementos de uma matriz\n",
    "meusAmigos = [\"Luiza\", \"Vitória\", \"Jonathan\", \"Lis\"]\n",
    "\n",
    "for amigo in meusAmigos\n",
    "    println(\"Olá, $(amigo)! Tudo bem?\")\n",
    "end"
   ]
  },
  {
   "cell_type": "markdown",
   "id": "58de620e-a0ae-4d9d-877b-1f3040636717",
   "metadata": {},
   "source": [
    "Para melhor ilustrar o uso de matrizes mais complexas, vamos usar os laços for para criar tabelas de adição, onde o valor de cada entrada é a soma dos seus índices de linha e coluna.\n",
    "\n",
    "Note que nós iremos iterar primeiro sobre as colunas (loop mais externo), visando otimizar a performance. Para mais informação sobre a indexação multidimensional em matrizes, veja a [documentação oficial](https://docs.julialang.org/en/v1/manual/performance-tips/#Access-arrays-in-memory-order,-along-columns-1)."
   ]
  },
  {
   "cell_type": "code",
   "execution_count": 24,
   "id": "29a443de-8b49-4353-b761-bf92908e7afc",
   "metadata": {},
   "outputs": [
    {
     "data": {
      "text/plain": [
       "5×5 Matrix{Int64}:\n",
       " 2  3  4  5   6\n",
       " 3  4  5  6   7\n",
       " 4  5  6  7   8\n",
       " 5  6  7  8   9\n",
       " 6  7  8  9  10"
      ]
     },
     "execution_count": 24,
     "metadata": {},
     "output_type": "execute_result"
    }
   ],
   "source": [
    "# Vamos começar criar uma matriz de 5x5 repleta de zeros\n",
    "m, n = 5, 5\n",
    "A = fill(0, (m, n))\n",
    "\n",
    "for j in 1:n\n",
    "    for i in 1:m\n",
    "        A[i, j] = i + j\n",
    "    end\n",
    "end\n",
    "A"
   ]
  },
  {
   "cell_type": "code",
   "execution_count": 25,
   "id": "4194003a-2f3a-49d3-9a62-beb3dbeaefbc",
   "metadata": {},
   "outputs": [
    {
     "data": {
      "text/plain": [
       "5×5 Matrix{Int64}:\n",
       " 2  3  4  5   6\n",
       " 3  4  5  6   7\n",
       " 4  5  6  7   8\n",
       " 5  6  7  8   9\n",
       " 6  7  8  9  10"
      ]
     },
     "execution_count": 25,
     "metadata": {},
     "output_type": "execute_result"
    }
   ],
   "source": [
    "# Julia oferece açúcar sintático para laços aninhados\n",
    "B = fill(0, (m, n))\n",
    "for j in 1:n, i in 1:m\n",
    "    B[i, j] = i + j\n",
    "end\n",
    "B"
   ]
  },
  {
   "cell_type": "code",
   "execution_count": 26,
   "id": "129b63aa-903f-4f66-b23d-7167344216b1",
   "metadata": {},
   "outputs": [
    {
     "data": {
      "text/plain": [
       "5×5 Matrix{Int64}:\n",
       " 2  3  4  5   6\n",
       " 3  4  5  6   7\n",
       " 4  5  6  7   8\n",
       " 5  6  7  8   9\n",
       " 6  7  8  9  10"
      ]
     },
     "execution_count": 26,
     "metadata": {},
     "output_type": "execute_result"
    }
   ],
   "source": [
    "# A forma mais \"Juliana\", contudo, é usar \"array comprehension\"\n",
    "C = [i + j for i in 1:m, j in 1:n]\n",
    "C"
   ]
  },
  {
   "cell_type": "markdown",
   "id": "65f2814e-2455-444b-a502-c59084eb507f",
   "metadata": {},
   "source": [
    "### Expressões compostas\n",
    "Expressão para avaliar múltiplas subexpressões ordenadamente, tendo como retorno o valor\n",
    "da última subexpressão."
   ]
  },
  {
   "cell_type": "code",
   "execution_count": 29,
   "id": "1ca73b6a-47ac-4efa-b271-e5325feac093",
   "metadata": {},
   "outputs": [],
   "source": [
    "# todas as sintaxes abaixo são equivalentes.\n",
    "\n",
    "z = begin\n",
    "    x = 1\n",
    "    y = 2\n",
    "    x + y # irá retornar 3\n",
    "end\n",
    "\n",
    "z = (x = 1; y = 2; x + y)\n",
    "\n",
    "z = begin x = 1; y = 2; x + y end\n",
    "\n",
    "z = (x = 1; \n",
    "     y = 2;\n",
    "     x + y);  "
   ]
  },
  {
   "cell_type": "markdown",
   "id": "8d580977-096b-4fe3-81f7-5e4ecfe33fe2",
   "metadata": {},
   "source": [
    "---"
   ]
  },
  {
   "cell_type": "markdown",
   "id": "c29f65da-7995-451f-b03d-307ee9491305",
   "metadata": {},
   "source": [
    "### Avaliação condicional\n",
    "\n",
    "Condicionais permitem que códigos sejam avaliados (ou não), dependendo do valor de uma\n",
    "expressão boleana. Abaixo, se a expressão ```x < y``` for verdadeira, o bloco\n",
    "correspondente será executado. As expressão são avaliadas até que um primeiro true\n",
    "seja obtido. Caso contrário, a declaração ```else``` será avaliada.\n",
    "\n",
    "- As declarações ```elseif``` e ```else``` são opcionais.\n",
    "- Uma indefinida quantidade ```elseif``` pode ser usada.\n",
    "- Blocos ```if``` são ```leaky```. Isto é, não possuem escopo local. Uma nova variável definida dentro de bloco pode ser usada após o bloco, mesmo que não tenha sido definida anteriormente. Veja no exemplo."
   ]
  },
  {
   "cell_type": "code",
   "execution_count": 2,
   "id": "6f0dc826-4364-4eff-97d4-d86f311473af",
   "metadata": {},
   "outputs": [],
   "source": [
    "function teste(x, y)\n",
    "    if x < y\n",
    "        rel = \"menor que\"\n",
    "    elseif x == y\n",
    "        rel = \"igual a\"\n",
    "    else\n",
    "        rel = \"maior que\"\n",
    "    end\n",
    "    println(\"x é \", rel, \" y.\")\n",
    "end;"
   ]
  },
  {
   "cell_type": "code",
   "execution_count": 3,
   "id": "d89294fc-1309-4de2-8581-a65ee41c5591",
   "metadata": {},
   "outputs": [
    {
     "name": "stdout",
     "output_type": "stream",
     "text": [
      "x é menor que y.\n"
     ]
    }
   ],
   "source": [
    "teste(1, 2)"
   ]
  },
  {
   "cell_type": "markdown",
   "id": "0be6efaa-0001-4d8d-be3f-ac1bec1b91bb",
   "metadata": {},
   "source": [
    "Note que os blocos ```if``` retornam valores. No caso, os valores retornados são, simplesmente, o valor da última declaração executada em um bloco."
   ]
  },
  {
   "cell_type": "code",
   "execution_count": 4,
   "id": "9bd2f2a3-38a7-4443-97ec-b9ddeb001d6b",
   "metadata": {},
   "outputs": [
    {
     "data": {
      "text/plain": [
       "\"positivo!\""
      ]
     },
     "execution_count": 4,
     "metadata": {},
     "output_type": "execute_result"
    }
   ],
   "source": [
    "x = 3\n",
    "if x > 0\n",
    "    \"positivo!\"\n",
    "else\n",
    "    \"negativo...\"\n",
    "end"
   ]
  },
  {
   "cell_type": "markdown",
   "id": "9085300f-d32e-4bde-8e20-a7745162abdf",
   "metadata": {},
   "source": [
    "Julia é mais estrito com os tipos. Diferentemnte de muitas linguagens dinâmica, valores 1 e 0 não equivalem a boleanos para avaliações condicionais. Um ```TypeError``` é esperado."
   ]
  },
  {
   "cell_type": "code",
   "execution_count": 7,
   "id": "55a99e36-808f-4c19-b4a6-64fa99abc986",
   "metadata": {},
   "outputs": [
    {
     "ename": "LoadError",
     "evalue": "TypeError: non-boolean (Int64) used in boolean context",
     "output_type": "error",
     "traceback": [
      "TypeError: non-boolean (Int64) used in boolean context",
      "",
      "Stacktrace:",
      " [1] top-level scope",
      "   @ In[7]:1",
      " [2] eval",
      "   @ ./boot.jl:360 [inlined]",
      " [3] include_string(mapexpr::typeof(REPL.softscope), mod::Module, code::String, filename::String)",
      "   @ Base ./loading.jl:1094"
     ]
    }
   ],
   "source": [
    "if 1\n",
    "    println(\"true\")\n",
    "end"
   ]
  },
  {
   "cell_type": "markdown",
   "id": "e824e004-0aa4-4aad-9a95-d48339b7aa76",
   "metadata": {},
   "source": [
    "#### Operador ternário\n",
    "\n",
    "estrutura: expressão ? saída caso a expressão seja verdadeira : saída caso seja falsa"
   ]
  },
  {
   "cell_type": "code",
   "execution_count": 33,
   "id": "5e84482e-dadc-4c3a-9044-2875bbd6f160",
   "metadata": {},
   "outputs": [
    {
     "name": "stdout",
     "output_type": "stream",
     "text": [
      "a não é maior que b\n"
     ]
    }
   ],
   "source": [
    "a = 1\n",
    "b = 2\n",
    "\n",
    "a > b ? println(\"a é maior que b\") : println(\"a não é maior que b\")"
   ]
  },
  {
   "cell_type": "markdown",
   "id": "6d65bd2b-493b-4dbf-bbf1-03315e7c1654",
   "metadata": {},
   "source": [
    "#### Operadores lógicos e circuito curto (and)\n",
    "\n",
    "A primeira parte da expressão é avaliada. Se ela for falsa, Julia nem mesmo avalia a segunda, pois a saída geral da expressão já será falsa de toda forma. Nota: leia o operador ```&``` como ```and```."
   ]
  },
  {
   "cell_type": "code",
   "execution_count": 43,
   "id": "f1b9c005-d565-4126-837e-c628236b6f26",
   "metadata": {},
   "outputs": [
    {
     "data": {
      "text/plain": [
       "false"
      ]
     },
     "execution_count": 43,
     "metadata": {},
     "output_type": "execute_result"
    }
   ],
   "source": [
    "a = false\n",
    "b = true\n",
    "\n",
    "a && b"
   ]
  },
  {
   "cell_type": "markdown",
   "id": "caba0316-46e1-4065-aed0-0d73af26bee2",
   "metadata": {},
   "source": [
    "Em outro caso, se ```a``` for verdadeiro, Julia irá retornar o valor de ```b``` como resultante geral da expressão. Isso significa que ```b``` nem mesmo precisa ser avaliado verdadeiro (true) ou falso (false). "
   ]
  },
  {
   "cell_type": "code",
   "execution_count": 49,
   "id": "cd1902d5-bd1c-433c-b8e4-49cbf0f3ce92",
   "metadata": {},
   "outputs": [
    {
     "name": "stdout",
     "output_type": "stream",
     "text": [
      "resposta da expressão!\n"
     ]
    }
   ],
   "source": [
    "b && println(\"resposta da expressão!\")  # a saída será \"resposta da expressão!\""
   ]
  },
  {
   "cell_type": "code",
   "execution_count": 60,
   "id": "5294d275-d7f2-4386-b258-0e030551e01f",
   "metadata": {},
   "outputs": [
    {
     "data": {
      "text/plain": [
       "false"
      ]
     },
     "execution_count": 60,
     "metadata": {},
     "output_type": "execute_result"
    }
   ],
   "source": [
    "# note que, como a será avaliado falso, o retorno será false\n",
    "a && println(\"resposta da expressão!\")"
   ]
  },
  {
   "cell_type": "code",
   "execution_count": 57,
   "id": "bd3c1bdb-9347-468b-bef7-6d84ac45e162",
   "metadata": {},
   "outputs": [
    {
     "ename": "LoadError",
     "evalue": "x não pode ser maior que zero!",
     "output_type": "error",
     "traceback": [
      "x não pode ser maior que zero!",
      "",
      "Stacktrace:",
      " [1] error(s::String)",
      "   @ Base ./error.jl:33",
      " [2] top-level scope",
      "   @ In[57]:3",
      " [3] eval",
      "   @ ./boot.jl:360 [inlined]",
      " [4] include_string(mapexpr::typeof(REPL.softscope), mod::Module, code::String, filename::String)",
      "   @ Base ./loading.jl:1094"
     ]
    }
   ],
   "source": [
    "# no exemplo abaixo, o erro será retornado \n",
    "x = 1\n",
    "x > 0 && error(\"x não pode ser maior que zero!\")"
   ]
  },
  {
   "cell_type": "code",
   "execution_count": 55,
   "id": "cb12e85c-2888-492b-a2fb-79f6ae98fa23",
   "metadata": {},
   "outputs": [
    {
     "name": "stdout",
     "output_type": "stream",
     "text": [
      "olá!\n"
     ]
    },
    {
     "data": {
      "text/plain": [
       "true"
      ]
     },
     "execution_count": 55,
     "metadata": {},
     "output_type": "execute_result"
    }
   ],
   "source": [
    "# é possível adicionar mais complexidade à segunda parte do circuito\n",
    "b && (println(\"olá!\"); true)  # o retorno será \"olá\" e, em seguida, \"true\""
   ]
  },
  {
   "cell_type": "markdown",
   "id": "8e842d47-7516-41aa-b933-8b5eec22cc1d",
   "metadata": {},
   "source": [
    "#### Operadores lógicos e circuito curto (or)\n",
    "\n",
    "Utilizar o circuito curto com operador lógico ```or``` retornará o valor da primeira expressão caso ela seja verdadeira; caso não seja, a segunda expressão será retornada."
   ]
  },
  {
   "cell_type": "code",
   "execution_count": 61,
   "id": "2b1ef554-af8d-4b67-905b-3830bd6f5474",
   "metadata": {},
   "outputs": [
    {
     "data": {
      "text/plain": [
       "true"
      ]
     },
     "execution_count": 61,
     "metadata": {},
     "output_type": "execute_result"
    }
   ],
   "source": [
    "true || println(\"olá!\")"
   ]
  },
  {
   "cell_type": "code",
   "execution_count": 64,
   "id": "ab1f1e12-d0de-4ee8-903a-27ad1c30777e",
   "metadata": {},
   "outputs": [
    {
     "name": "stdout",
     "output_type": "stream",
     "text": [
      "olá!\n"
     ]
    }
   ],
   "source": [
    "false || println(\"olá!\")"
   ]
  }
 ],
 "metadata": {
  "kernelspec": {
   "display_name": "Julia 1.6.0",
   "language": "julia",
   "name": "julia-1.6"
  },
  "language_info": {
   "file_extension": ".jl",
   "mimetype": "application/julia",
   "name": "julia",
   "version": "1.6.0"
  }
 },
 "nbformat": 4,
 "nbformat_minor": 5
}
