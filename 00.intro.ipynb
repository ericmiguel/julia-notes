{
 "cells": [
  {
   "cell_type": "markdown",
   "id": "608af6fb-fc23-403d-9866-1c5dea218642",
   "metadata": {},
   "source": [
    "## Introdução"
   ]
  },
  {
   "cell_type": "markdown",
   "id": "603fbf7f-6cd5-4ca0-9e11-31d77941f8b8",
   "metadata": {},
   "source": [
    "Julia é uma linguagem dinâmica. Sua síntaxe é razoavelmente parecida com Python, embora\n",
    "seja uma linguagem funcional. É bastante limpa, simples e a sensação geral é de uma\n",
    "linguagem de script. De acordo com a página oficial:\n",
    "\n",
    "- Julia was designed from the beginning for high performance.\n",
    "- Julia programs compile to efficient native code for multiple platforms via LLVM.\n",
    "\n",
    "Além disto, Julia possui um ótimo suporte à programação interativa."
   ]
  },
  {
   "cell_type": "markdown",
   "id": "1f684b76-a06c-4e57-9367-b31c216e5fd0",
   "metadata": {},
   "source": [
    "## Operações básicas\n",
    "Para uma lista completa de operadores, veja a [documentação](https://docs.julialang.org/en/v1/manual/mathematical-operations/index.html)."
   ]
  },
  {
   "cell_type": "code",
   "execution_count": 6,
   "id": "fbdfef54",
   "metadata": {},
   "outputs": [
    {
     "data": {
      "text/plain": [
       "5"
      ]
     },
     "execution_count": 6,
     "metadata": {},
     "output_type": "execute_result"
    }
   ],
   "source": [
    "a = 2\n",
    "b = 3\n",
    "soma = a + b\n",
    "diferenca = a - b\n",
    "produto = a * b\n",
    "quociente = b / a\n",
    "potencia = a ^ 3\n",
    "modulo = b % a\n",
    "soma"
   ]
  },
  {
   "cell_type": "markdown",
   "id": "41e895d2-9f90-420a-9c78-af80f02d7b4c",
   "metadata": {},
   "source": [
    "## Variáveis\n",
    "\n",
    "Veja a [documentação oficial](https://docs.julialang.org/en/v1/manual/variables/) do tópico."
   ]
  },
  {
   "cell_type": "markdown",
   "id": "e937bd43-50da-4665-80e7-32429e95f9bf",
   "metadata": {},
   "source": [
    "### nomes de variáveis\n",
    "\n",
    "Julia é bastante flexível com relação aos nomes de variáveis.\n",
    "- Os nomes são ```case-sensitive```.\n",
    "- Unicode (com codificação utf-8) são permitidos.\n",
    "- É possível redefinir constante (fora de uso), embora nao seja recomendado.\n",
    "\n",
    "### Convenções de estilo\n",
    "\n",
    "- Nomes de ```variáveis``` devem ser declaradas em minúsculas.\n",
    "- Separações podem ser feitas com _underline_ ('_'), embora seja desencorajado, a não ser que o nome seja difícil de ler do contrário.\n",
    "- Nomes de ```tipos``` e ```módulos``` começam com letra capitalizada. Separação é feita com ```camel case``` ao invés de _underline_.\n",
    "- Nomes de ```funções``` e ```macros``` devem ser dados em minúsculas, sem _underline_.\n",
    "- Use espaços brancos antes e após \"=\" ao declarar uma variável."
   ]
  },
  {
   "cell_type": "markdown",
   "id": "fb2dd29b-cc52-444b-a2c3-7eeab31b7e02",
   "metadata": {},
   "source": [
    "### tipos de variáveis\n",
    "\n",
    "em construção..."
   ]
  },
  {
   "cell_type": "code",
   "execution_count": 8,
   "id": "1850437e",
   "metadata": {},
   "outputs": [
    {
     "data": {
      "text/plain": [
       "Int64"
      ]
     },
     "execution_count": 8,
     "metadata": {},
     "output_type": "execute_result"
    }
   ],
   "source": [
    "# para determinar o tipo de um objeto, podemos utilizar \"typeof\".\n",
    "typeof(soma)  # Int64"
   ]
  },
  {
   "cell_type": "markdown",
   "id": "29dbbd19-a520-43a9-939d-385db40f7a52",
   "metadata": {},
   "source": [
    "#### boas práticas e desempenho\n",
    "Embora seja perfeitamente possível mudar o valor de uma variável no decorrer da execução de um programa, é uma boa prática de programação, além de crítica para performance, manter as variáveis estáveis com relação ao tipo. Ou seja: se declaramos um variável ```a = 42```, é uma boa ideia não alterar essa variável para 0.42, por exemplo. Sabeo de antemão que precisaremos de um float, recomenda-se que a variável seja já declarada como float."
   ]
  },
  {
   "cell_type": "code",
   "execution_count": 2,
   "id": "fd9103f8",
   "metadata": {},
   "outputs": [
    {
     "data": {
      "text/plain": [
       "2.0"
      ]
     },
     "execution_count": 2,
     "metadata": {},
     "output_type": "execute_result"
    }
   ],
   "source": [
    "a = 2 # se precisarmos operar apenas com inteiros\n",
    "b = 2.0 # se precisarmos operar com floats\n",
    "\n",
    "# Embora não recomendado, é possível converter o tipo da variável:\n",
    "convert(Float64, 2)"
   ]
  },
  {
   "cell_type": "markdown",
   "id": "08767da3-699f-4bc1-91b5-6cf020005657",
   "metadata": {},
   "source": [
    "### escopo das variáveis\n",
    "\n",
    "em contrução..."
   ]
  }
 ],
 "metadata": {
  "kernelspec": {
   "display_name": "Julia 1.6.0",
   "language": "julia",
   "name": "julia-1.6"
  },
  "language_info": {
   "file_extension": ".jl",
   "mimetype": "application/julia",
   "name": "julia",
   "version": "1.6.0"
  }
 },
 "nbformat": 4,
 "nbformat_minor": 5
}
