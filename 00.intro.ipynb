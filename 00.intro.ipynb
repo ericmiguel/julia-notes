{
 "cells": [
  {
   "cell_type": "markdown",
   "id": "608af6fb-fc23-403d-9866-1c5dea218642",
   "metadata": {},
   "source": [
    "## Introdução"
   ]
  },
  {
   "cell_type": "markdown",
   "id": "603fbf7f-6cd5-4ca0-9e11-31d77941f8b8",
   "metadata": {},
   "source": [
    "Julia é uma linguagem dinâmica. Sua síntaxe é razoavelmente parecida com Python, embora\n",
    "seja uma linguagem funcional. É bastante limpa, simples e a sensação geral é de uma\n",
    "linguagem de script. De acordo com a página oficial:\n",
    "\n",
    "- Julia was designed from the beginning for high performance.\n",
    "- Julia programs compile to efficient native code for multiple platforms via LLVM.\n",
    "\n",
    "Além disto, Julia possui um ótimo suporte à programação interativa."
   ]
  },
  {
   "cell_type": "markdown",
   "id": "71973d67-37c5-4fb9-beff-abe8b8724c1b",
   "metadata": {},
   "source": [
    "## Comentários"
   ]
  },
  {
   "cell_type": "code",
   "execution_count": 5,
   "id": "e2394598-f715-484a-a6cc-403fe798ec17",
   "metadata": {},
   "outputs": [],
   "source": [
    "# comentários de uma linha usam #"
   ]
  },
  {
   "cell_type": "code",
   "execution_count": 6,
   "id": "30b084ac-02a9-4ebd-a565-61a800143025",
   "metadata": {},
   "outputs": [],
   "source": [
    "#= \n",
    "\n",
    "Comentários de uma linha usam \n",
    "#= para iniciar um bloco e \n",
    "=# para fecharum bloco.\n",
    "\n",
    "=#"
   ]
  },
  {
   "cell_type": "markdown",
   "id": "1f684b76-a06c-4e57-9367-b31c216e5fd0",
   "metadata": {},
   "source": [
    "## Operações básicas\n",
    "Para uma lista completa de operadores, veja a [documentação](https://docs.julialang.org/en/v1/manual/mathematical-operations/index.html)."
   ]
  },
  {
   "cell_type": "code",
   "execution_count": 6,
   "id": "fbdfef54",
   "metadata": {},
   "outputs": [
    {
     "data": {
      "text/plain": [
       "5"
      ]
     },
     "execution_count": 6,
     "metadata": {},
     "output_type": "execute_result"
    }
   ],
   "source": [
    "a = 2\n",
    "b = 3\n",
    "soma = a + b\n",
    "diferenca = a - b\n",
    "produto = a * b\n",
    "quociente = b / a\n",
    "potencia = a ^ 3\n",
    "modulo = b % a\n",
    "soma"
   ]
  },
  {
   "cell_type": "markdown",
   "id": "41e895d2-9f90-420a-9c78-af80f02d7b4c",
   "metadata": {},
   "source": [
    "## Variáveis\n",
    "\n",
    "Veja a [documentação oficial](https://docs.julialang.org/en/v1/manual/variables/) do tópico."
   ]
  },
  {
   "cell_type": "markdown",
   "id": "e937bd43-50da-4665-80e7-32429e95f9bf",
   "metadata": {},
   "source": [
    "### nomes de variáveis\n",
    "\n",
    "Julia é bastante flexível com relação aos nomes de variáveis.\n",
    "- Os nomes são ```case-sensitive```.\n",
    "- Unicode (com codificação utf-8) são permitidos.\n",
    "- É possível redefinir constante (fora de uso), embora nao seja recomendado.\n",
    "\n",
    "### Convenções de estilo\n",
    "\n",
    "- Nomes de ```variáveis``` devem ser declaradas em minúsculas.\n",
    "- Separações podem ser feitas com _underline_ ('_'), embora seja desencorajado, a não ser que o nome seja difícil de ler do contrário.\n",
    "- Nomes de ```tipos``` e ```módulos``` começam com letra capitalizada. Separação é feita com ```camel case``` ao invés de _underline_.\n",
    "- Nomes de ```funções``` e ```macros``` devem ser dados em minúsculas, sem _underline_.\n",
    "- Use espaços brancos antes e após \"=\" ao declarar uma variável."
   ]
  },
  {
   "cell_type": "markdown",
   "id": "a8bc28e0-f493-4f5d-8165-e85ff0bfbf4d",
   "metadata": {},
   "source": [
    "---"
   ]
  },
  {
   "cell_type": "markdown",
   "id": "08a1757d-5e32-4ae1-a5ba-72910ab93d59",
   "metadata": {},
   "source": [
    "### Strings"
   ]
  },
  {
   "cell_type": "code",
   "execution_count": 17,
   "id": "0d9eba6a-a153-4d91-b7ac-f4c73f81a462",
   "metadata": {},
   "outputs": [],
   "source": [
    "#= \n",
    "strings podem ser definidas com aspas duplas (\") ou três aspas duplas (\"\"\").\n",
    "Veja as diferenças:\n",
    "=#"
   ]
  },
  {
   "cell_type": "code",
   "execution_count": 18,
   "id": "7c31438d-f91a-4751-98eb-65ad352496e5",
   "metadata": {},
   "outputs": [
    {
     "ename": "LoadError",
     "evalue": "syntax: cannot juxtapose string literal",
     "output_type": "error",
     "traceback": [
      "syntax: cannot juxtapose string literal",
      "",
      "Stacktrace:",
      " [1] top-level scope",
      "   @ In[18]:1",
      " [2] eval",
      "   @ ./boot.jl:360 [inlined]",
      " [3] include_string(mapexpr::typeof(REPL.softscope), mod::Module, code::String, filename::String)",
      "   @ Base ./loading.jl:1094"
     ]
    }
   ],
   "source": [
    "# repare nas aspas ao redor da palavra \"erro\"\n",
    "\"Aqui teremos um \"erro\", pois o início e fim da string são ambíguos!\""
   ]
  },
  {
   "cell_type": "code",
   "execution_count": 14,
   "id": "75125245-ba4a-408e-8665-bece37e2b5e5",
   "metadata": {},
   "outputs": [
    {
     "data": {
      "text/plain": [
       "\"Aqui não teremos um \\\"erro\\\", excelente!\""
      ]
     },
     "execution_count": 14,
     "metadata": {},
     "output_type": "execute_result"
    }
   ],
   "source": [
    "\"\"\"Aqui não teremos um \"erro\", excelente!\"\"\""
   ]
  },
  {
   "cell_type": "code",
   "execution_count": 21,
   "id": "19a6d0ab-7c83-4e8c-b539-4dad714ee9fc",
   "metadata": {},
   "outputs": [
    {
     "data": {
      "text/plain": [
       "Char"
      ]
     },
     "execution_count": 21,
     "metadata": {},
     "output_type": "execute_result"
    }
   ],
   "source": [
    "# Em Julia, aspas simples (') não definem strings, mas sim caracteres.\n",
    "typeof('a')\n",
    "# ou seja, não é possível colocar mais de um caractere em sequência!"
   ]
  },
  {
   "cell_type": "markdown",
   "id": "0e88a591-c262-4b7b-b55a-24a4437e6cb1",
   "metadata": {
    "tags": []
   },
   "source": [
    "#### Interpolação de strings\n",
    "Podemos utilizar $ para inserir valores dinâmicos em strings."
   ]
  },
  {
   "cell_type": "code",
   "execution_count": 28,
   "id": "0fca93e0-a529-491f-aefc-0a6e0d8abb7c",
   "metadata": {},
   "outputs": [
    {
     "name": "stdout",
     "output_type": "stream",
     "text": [
      "Olá, meu nome é Eric. Tenho 27 anos.\n"
     ]
    }
   ],
   "source": [
    "nome = \"Eric\"\n",
    "anoNascimento = 1994 \n",
    "anoAtual = 2021\n",
    "\n",
    "# note que, para fazer operações dentro das strings, é necessário usar parênteses\n",
    "println(\"Olá, meu nome é $nome. Tenho $(anoAtual - anoNascimento) anos.\")"
   ]
  },
  {
   "cell_type": "markdown",
   "id": "ed1c25d8-7625-430f-9b37-dc3474ab436f",
   "metadata": {},
   "source": [
    "#### concatenação de strings"
   ]
  },
  {
   "cell_type": "code",
   "execution_count": 34,
   "id": "a38131a6-ddd4-4946-84a8-dad857235dea",
   "metadata": {},
   "outputs": [],
   "source": [
    "s1 = \"Quantos gatos \";\n",
    "s2 = \"são gatos demais?\";\n",
    "😺 = 10;"
   ]
  },
  {
   "cell_type": "code",
   "execution_count": 35,
   "id": "57723cfa-be8c-4692-89a5-acfe0f544f13",
   "metadata": {},
   "outputs": [
    {
     "data": {
      "text/plain": [
       "\"Quantos gatos são gatos demais?\""
      ]
     },
     "execution_count": 35,
     "metadata": {},
     "output_type": "execute_result"
    }
   ],
   "source": [
    "string(s1, s2)"
   ]
  },
  {
   "cell_type": "code",
   "execution_count": 36,
   "id": "36b89167-f577-4c83-b2c4-bb257a8270e3",
   "metadata": {},
   "outputs": [
    {
     "data": {
      "text/plain": [
       "\"eu não sei, mas 10 é um bom número!\""
      ]
     },
     "execution_count": 36,
     "metadata": {},
     "output_type": "execute_result"
    }
   ],
   "source": [
    "string(\"eu não sei, mas \", 😺, \" é um bom número!\")"
   ]
  },
  {
   "cell_type": "code",
   "execution_count": 37,
   "id": "a3da0440-263c-4926-9c58-b54ea91ad255",
   "metadata": {},
   "outputs": [
    {
     "data": {
      "text/plain": [
       "\"Quantos gatos são gatos demais?\""
      ]
     },
     "execution_count": 37,
     "metadata": {},
     "output_type": "execute_result"
    }
   ],
   "source": [
    "# também é possível concatenar usando o operador *\n",
    "s1 * s2"
   ]
  },
  {
   "cell_type": "markdown",
   "id": "9b171088-ff24-49b5-8fa0-dba678b4ebd3",
   "metadata": {},
   "source": [
    "#### Outros"
   ]
  },
  {
   "cell_type": "code",
   "execution_count": 48,
   "id": "c295808f-38d8-4125-918b-9522fcd2ac6b",
   "metadata": {},
   "outputs": [
    {
     "data": {
      "text/plain": [
       "\"[repete][repete][repete]\""
      ]
     },
     "execution_count": 48,
     "metadata": {},
     "output_type": "execute_result"
    }
   ],
   "source": [
    "# é possível repetir uma string com o operador de exponenciação\n",
    "\"[repete]\" ^ 3"
   ]
  },
  {
   "cell_type": "markdown",
   "id": "ab134ff1-92db-481a-b854-cc88f9dad80b",
   "metadata": {},
   "source": [
    "---"
   ]
  },
  {
   "cell_type": "markdown",
   "id": "1d3ec802-00ab-48b0-98b7-2ac091930d82",
   "metadata": {},
   "source": [
    "### Estruturas de dados\n",
    "\n",
    "Abordaremos 3 tipos de estruturas:\n",
    "- Tuplas (tuples) e tuplas nomeadas (named tuples)\n",
    "- Dicionários (dictionaries)\n",
    "- Matrizes (arrays)"
   ]
  },
  {
   "cell_type": "markdown",
   "id": "6b2b2b9d-d16f-4673-942d-a3110eda193a",
   "metadata": {},
   "source": [
    "#### Tuplas\n",
    "tuplas são sequências ordenadas e imutáveis de elementos."
   ]
  },
  {
   "cell_type": "code",
   "execution_count": 55,
   "id": "52a6b900-e85a-4941-bea1-0b93600ce16d",
   "metadata": {},
   "outputs": [],
   "source": [
    "# tuplas são definidas com parênteses\n",
    "animais = (\"gato\", \"cachorro\", \"papagaio\");"
   ]
  },
  {
   "cell_type": "code",
   "execution_count": 53,
   "id": "049333fe-494b-487f-b2ac-44476830990e",
   "metadata": {},
   "outputs": [
    {
     "data": {
      "text/plain": [
       "\"gato\""
      ]
     },
     "execution_count": 53,
     "metadata": {},
     "output_type": "execute_result"
    }
   ],
   "source": [
    "animais[1]"
   ]
  },
  {
   "cell_type": "code",
   "execution_count": 57,
   "id": "5f889ff9-beb7-43d7-9908-ee22e971c627",
   "metadata": {},
   "outputs": [
    {
     "ename": "LoadError",
     "evalue": "MethodError: no method matching setindex!(::Tuple{String, String, String}, ::String, ::Int64)",
     "output_type": "error",
     "traceback": [
      "MethodError: no method matching setindex!(::Tuple{String, String, String}, ::String, ::Int64)",
      "",
      "Stacktrace:",
      " [1] top-level scope",
      "   @ In[57]:2",
      " [2] eval",
      "   @ ./boot.jl:360 [inlined]",
      " [3] include_string(mapexpr::typeof(REPL.softscope), mod::Module, code::String, filename::String)",
      "   @ Base ./loading.jl:1094"
     ]
    }
   ],
   "source": [
    "# já que são imutáveis, não é possível alterar o valor de um elemento\n",
    "animais[1] = \"um erro irá acontecer!\""
   ]
  },
  {
   "cell_type": "markdown",
   "id": "1d3be1b5-98ee-4b5d-a629-be7edf724a7d",
   "metadata": {},
   "source": [
    "#### Tuplas nomeadas\n",
    "Tuplas nomeadas são como tuplas, porém com nomes para os valores."
   ]
  },
  {
   "cell_type": "code",
   "execution_count": 59,
   "id": "462973f1-dc89-4cea-adc8-aade7359cbf9",
   "metadata": {},
   "outputs": [],
   "source": [
    "animais2 = (ave = \"papagaio\", felino = \"gato\", canideo = \"cachorro\");"
   ]
  },
  {
   "cell_type": "code",
   "execution_count": 60,
   "id": "fcec8e9e-660b-4db4-974c-94781e913914",
   "metadata": {},
   "outputs": [
    {
     "data": {
      "text/plain": [
       "\"papagaio\""
      ]
     },
     "execution_count": 60,
     "metadata": {},
     "output_type": "execute_result"
    }
   ],
   "source": [
    "# enquanto objetos ordenados, ainda é possível obter os valores através de índice numérico\n",
    "animais2[1]"
   ]
  },
  {
   "cell_type": "code",
   "execution_count": 62,
   "id": "0bb38077-19d3-4368-abc8-ed80ebb1cc0e",
   "metadata": {},
   "outputs": [
    {
     "data": {
      "text/plain": [
       "\"gato\""
      ]
     },
     "execution_count": 62,
     "metadata": {},
     "output_type": "execute_result"
    }
   ],
   "source": [
    "# embora agora também seja possível obter um valor através do nome do elemento\n",
    "animais2.felino"
   ]
  },
  {
   "cell_type": "markdown",
   "id": "0fdec697-9bf3-46e4-a0d5-df7fe0333dc9",
   "metadata": {},
   "source": [
    "#### Dicionários\n",
    "\n",
    "Dicionários são como tuplas nomeadas no que diz respeito à chaves nomeando valores. Contudo, dicionários são não-ordenados e mutáveis."
   ]
  },
  {
   "cell_type": "code",
   "execution_count": 67,
   "id": "b0216d69-6e7b-4a01-b06c-2a1883237f6d",
   "metadata": {},
   "outputs": [],
   "source": [
    "# diferentemente das tuplas nomeadas, a síntaxe pede a keyword Dict e usa => na construção.\n",
    "telefones = Dict(\"pessoa1\" => \"21 6666-00000\", \"pessoa2\" => \"11 8888-9999\");\n",
    "# note que o nome das chaves são strings."
   ]
  },
  {
   "cell_type": "code",
   "execution_count": 68,
   "id": "ba79d35a-54d6-4a26-b05a-fdf262856e26",
   "metadata": {},
   "outputs": [
    {
     "data": {
      "text/plain": [
       "\"21 6666-00000\""
      ]
     },
     "execution_count": 68,
     "metadata": {},
     "output_type": "execute_result"
    }
   ],
   "source": [
    "# diferentemente das tuplas nomeadas, a síntaxe para acessar um valor é feita com colchetes.\n",
    "telefones[\"pessoa1\"]"
   ]
  },
  {
   "cell_type": "code",
   "execution_count": 69,
   "id": "6d57be63-a5ca-4f44-8481-e0ca70332bee",
   "metadata": {},
   "outputs": [
    {
     "data": {
      "text/plain": [
       "\"81 1212-0000\""
      ]
     },
     "execution_count": 69,
     "metadata": {},
     "output_type": "execute_result"
    }
   ],
   "source": [
    "# como são mutáveis, é possível adicionar novos elementos\n",
    "telefones[\"pessoa3\"] = \"81 1212-0000\""
   ]
  },
  {
   "cell_type": "code",
   "execution_count": 71,
   "id": "e29ae17b-696c-4d55-8fb9-64a76708990e",
   "metadata": {},
   "outputs": [
    {
     "data": {
      "text/plain": [
       "\"81 1212-0000\""
      ]
     },
     "execution_count": 71,
     "metadata": {},
     "output_type": "execute_result"
    }
   ],
   "source": [
    "# ou mesmo remover elementos\n",
    "pop!(telefones, \"pessoa3\")"
   ]
  },
  {
   "cell_type": "markdown",
   "id": "46002e41-38bb-48d5-8d04-794f03a3eb0d",
   "metadata": {},
   "source": [
    "#### Matrizes\n",
    "\n",
    "Matrizes, ao contrário de tuplas, são mutáveis. Diferentemente de dicionários, matrizes são ordenadas. "
   ]
  },
  {
   "cell_type": "code",
   "execution_count": 86,
   "id": "176aaa30-bec6-4d58-9cb5-4ebc39987f52",
   "metadata": {},
   "outputs": [
    {
     "data": {
      "text/plain": [
       "3-element Vector{String}:\n",
       " \"pessoa1\"\n",
       " \"pessoa2\"\n",
       " \"pessoa3\""
      ]
     },
     "execution_count": 86,
     "metadata": {},
     "output_type": "execute_result"
    }
   ],
   "source": [
    "pessoas = [\"pessoa1\", \"pessoa2\", \"pessoa3\"]"
   ]
  },
  {
   "cell_type": "code",
   "execution_count": 87,
   "id": "5fc42878-0288-4baa-b832-121a3d995e81",
   "metadata": {},
   "outputs": [
    {
     "data": {
      "text/plain": [
       "\"nova pessoa3\""
      ]
     },
     "execution_count": 87,
     "metadata": {},
     "output_type": "execute_result"
    }
   ],
   "source": [
    "# além de ser possível alterar elementos existentes na matriz\n",
    "pessoas[3] = \"nova pessoa3\""
   ]
  },
  {
   "cell_type": "code",
   "execution_count": 88,
   "id": "c7c4e84d-a4ae-4d21-8c8c-7a2649ebdb3d",
   "metadata": {},
   "outputs": [
    {
     "data": {
      "text/plain": [
       "\"pessoa4\""
      ]
     },
     "execution_count": 88,
     "metadata": {},
     "output_type": "execute_result"
    }
   ],
   "source": [
    "# também é possível adicionar novos elementos no fim da matriz\n",
    "push!(pessoas, \"pessoa4\");\n",
    "\n",
    "# ou ainda remover o último elemento\n",
    "pop!(pessoas)"
   ]
  },
  {
   "cell_type": "markdown",
   "id": "32f36aa8-9f38-4399-bd3e-f0facba69500",
   "metadata": {},
   "source": [
    "Matrizes podem armazenar mais de um tipo de objetos, incluindo outras matrizes."
   ]
  },
  {
   "cell_type": "code",
   "execution_count": 106,
   "id": "9fdf8e7e-d831-4fe1-a63d-5d33183fc793",
   "metadata": {},
   "outputs": [
    {
     "data": {
      "text/plain": [
       "2-element Vector{Vector{String}}:\n",
       " [\"ovos\", \"leite\", \"carne\"]\n",
       " [\"pão\", \"manteiga\", \"café\"]"
      ]
     },
     "execution_count": 106,
     "metadata": {},
     "output_type": "execute_result"
    }
   ],
   "source": [
    "listaCompras = [\n",
    "    [\"maçã\", \"banana\", \"pera\"],\n",
    "    [\"ovos\", \"leite\", \"carne\"],\n",
    "    [\"pão\", \"manteiga\", \"café\"]\n",
    "]\n",
    "\n",
    "# para pegar um subelemento \n",
    "listaCompras[1][1]\n",
    "\n",
    "# para pegar um recorte da matriz\n",
    "listaCompras[[2, 3]]"
   ]
  },
  {
   "cell_type": "code",
   "execution_count": 108,
   "id": "fbf0e8e9-8856-4f4a-be12-d18da1c1525d",
   "metadata": {},
   "outputs": [
    {
     "data": {
      "text/plain": [
       "3-element Vector{Vector{String}}:\n",
       " [\"cereal\", \"açúcar\", \"achocolatado\"]\n",
       " [\"ovos\", \"leite\", \"carne\"]\n",
       " [\"pão\", \"manteiga\", \"café\"]"
      ]
     },
     "execution_count": 108,
     "metadata": {},
     "output_type": "execute_result"
    }
   ],
   "source": [
    "# Importante: tome cuidado ao copiar itens entre listas, pois a referência é sempre mantida.\n",
    "novaListaCompras = listaCompras\n",
    "novaListaCompras[1] = [\"cereal\", \"açúcar\", \"achocolatado\"]\n",
    "listaCompras\n",
    "# Note como alterar \"novaListaCompras\" alterou a lista inicial (listaCompras)"
   ]
  },
  {
   "cell_type": "markdown",
   "id": "580dd622-aab7-4718-a743-1f732032c23c",
   "metadata": {},
   "source": [
    "---"
   ]
  },
  {
   "cell_type": "markdown",
   "id": "29dbbd19-a520-43a9-939d-385db40f7a52",
   "metadata": {},
   "source": [
    "### Boas práticas e desempenho\n",
    "Embora seja perfeitamente possível mudar o valor de uma variável no decorrer da execução de um programa, é uma boa prática, além de importante para performance, manter as variáveis estáveis com relação ao tipo. Ou seja: se declaramos um variável ```a = 42```, é uma boa ideia não alterar essa variável para 0.42, por exemplo. Se soubermos de antemão que precisaremos de um float, o recomendado é que a variável seja já declarada como float."
   ]
  },
  {
   "cell_type": "code",
   "execution_count": 2,
   "id": "fd9103f8",
   "metadata": {},
   "outputs": [
    {
     "data": {
      "text/plain": [
       "2.0"
      ]
     },
     "execution_count": 2,
     "metadata": {},
     "output_type": "execute_result"
    }
   ],
   "source": [
    "a = 2 # se precisarmos operar apenas com inteiros\n",
    "b = 2.0 # se precisarmos operar com floats\n",
    "\n",
    "# Embora não recomendado, é possível converter o tipo da variável:\n",
    "convert(Float64, 2)"
   ]
  }
 ],
 "metadata": {
  "kernelspec": {
   "display_name": "Julia 1.6.0",
   "language": "julia",
   "name": "julia-1.6"
  },
  "language_info": {
   "file_extension": ".jl",
   "mimetype": "application/julia",
   "name": "julia",
   "version": "1.6.0"
  }
 },
 "nbformat": 4,
 "nbformat_minor": 5
}
